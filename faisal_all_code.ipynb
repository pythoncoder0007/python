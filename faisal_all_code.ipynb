{
 "cells": [
  {
   "cell_type": "code",
   "execution_count": 1,
   "metadata": {},
   "outputs": [
    {
     "name": "stdout",
     "output_type": "stream",
     "text": [
      "Elements of original list: \n",
      "2 5 3 4 6 7 9 4 5 8 1 33 \n",
      "Elements of list sorted in ascending order: \n",
      "1 2 3 4 4 5 5 6 7 8 9 33 "
     ]
    }
   ],
   "source": [
    "#task-6\n",
    "# Sort in Ascending Order\n",
    "l1 = [2,5,3,4,6,7,9,4,5,8,1,33]\n",
    "  \n",
    "tem = 0;    \n",
    " \n",
    "print(\"Elements of original list: \")   \n",
    "for i in range(0, len(l1)): \n",
    "   print(l1[i], end=\" \");  \n",
    "   \n",
    "# Sort in Ascending Order    \n",
    "for i in range(0, len(l1)):  \n",
    "  #print(f\"For loop i:{l1[i]}\", end=\" \");   \n",
    "  for j in range(i+1, len(l1)): \n",
    "\n",
    "    #print(f\"For loop j:{l1[j]}\", end=\" \");    \n",
    "    if(l1[i] > l1[j]): \n",
    "\n",
    "            #print(\"tem=l1[i]\",l1[i])\n",
    "            tem = l1[i]; \n",
    "            #print(\"tem-\",tem) \n",
    "            l1[i] = l1[j]; \n",
    "            #print(\"l1[i]-\",l1[i])\n",
    "            l1[j] = tem; \n",
    "            #print(\"l1[j]----\",l1[j])\n",
    "\n",
    "      \n",
    "                  \n",
    "print();   \n",
    "print(\"Elements of list sorted in ascending order: \");    \n",
    "for i in range(0, len(l1)):    \n",
    "    print(l1[i], end=\" \");   \n",
    "  "
   ]
  }
 ],
 "metadata": {
  "interpreter": {
   "hash": "ac64fe28b00f96117a45ffb7e390cb941fd39c3fbd89c5f47518994653e6fc2e"
  },
  "kernelspec": {
   "display_name": "Python 3.9.7 64-bit",
   "language": "python",
   "name": "python3"
  },
  "language_info": {
   "codemirror_mode": {
    "name": "ipython",
    "version": 3
   },
   "file_extension": ".py",
   "mimetype": "text/x-python",
   "name": "python",
   "nbconvert_exporter": "python",
   "pygments_lexer": "ipython3",
   "version": "3.9.7"
  },
  "orig_nbformat": 4
 },
 "nbformat": 4,
 "nbformat_minor": 2
}
